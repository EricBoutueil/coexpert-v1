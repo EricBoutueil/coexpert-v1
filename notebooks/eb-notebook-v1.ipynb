{
 "cells": [
  {
   "cell_type": "code",
   "execution_count": null,
   "metadata": {},
   "outputs": [],
   "source": [
    "from langchain.document_loaders import PyPDFLoader\n",
    "from langchain.vectorstores import Chroma\n",
    "from langchain.embeddings.openai import OpenAIEmbeddings\n",
    "from langchain.document_loaders import UnstructuredPDFLoader\n",
    "# from langchain.llms import OpenAI\n",
    "from langchain.chat_models import ChatOpenAI\n",
    "from langchain.chains.question_answering import load_qa_chain\n",
    "\n",
    "from langchain.document_loaders import PyPDFDirectoryLoader\n",
    "from langchain.text_splitter import RecursiveCharacterTextSplitter\n",
    "\n",
    "from coexpert.params import OPENAI_API_KEY\n"
   ]
  },
  {
   "cell_type": "code",
   "execution_count": null,
   "metadata": {},
   "outputs": [],
   "source": [
    "path = './raw_data'\n",
    "loader = PyPDFDirectoryLoader(path)\n",
    "documents = loader.load()\n",
    "print(documents)\n",
    "\n",
    "# split the documents in small chunks\n",
    "# Change the chunk_size and chunk_overlap as needed\n",
    "text_splitter = RecursiveCharacterTextSplitter(\n",
    "    chunk_size=1000, chunk_overlap=100)\n",
    "all_splits = text_splitter.split_documents(documents)\n",
    "\n",
    "pages = all_splits\n",
    "\n",
    "# Replace book.pdf with any pdf of your choice\n",
    "# loader = UnstructuredPDFLoader(\"../../raw_data/_51113879-001A_NG4_Tachy_CRT-D_PTM_en_S.pdf\")\n",
    "# pages = loader.load_and_split()\n"
   ]
  },
  {
   "cell_type": "code",
   "execution_count": null,
   "metadata": {},
   "outputs": [],
   "source": [
    "embeddings = OpenAIEmbeddings(openai_api_key=OPENAI_API_KEY)\n",
    "docsearch = Chroma.from_documents(pages, embeddings).as_retriever()\n"
   ]
  },
  {
   "cell_type": "code",
   "execution_count": null,
   "metadata": {},
   "outputs": [],
   "source": [
    "# Choose any query of your choice\n",
    "query = \"Give me the dimensions of defibrilators?\"\n",
    "# query = \"Give me position of kamasutra\"\n",
    "docs = docsearch.get_relevant_documents(query)\n",
    "# chain = load_qa_chain(OpenAI(temperature=0, openai_api_key=OPENAI_API_KEY), chain_type=\"stuff\")\n",
    "chain = load_qa_chain(ChatOpenAI(\n",
    "    temperature=0, openai_api_key=OPENAI_API_KEY), chain_type=\"stuff\")\n",
    "output = chain.run(input_documents=docs, question=query)\n",
    "print(output)\n"
   ]
  }
 ],
 "metadata": {
  "kernelspec": {
   "display_name": "openaitest",
   "language": "python",
   "name": "python3"
  },
  "language_info": {
   "codemirror_mode": {
    "name": "ipython",
    "version": 3
   },
   "file_extension": ".py",
   "mimetype": "text/x-python",
   "name": "python",
   "nbconvert_exporter": "python",
   "pygments_lexer": "ipython3",
   "version": "3.10.12"
  }
 },
 "nbformat": 4,
 "nbformat_minor": 2
}
